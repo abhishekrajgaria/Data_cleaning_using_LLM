{
 "cells": [
  {
   "cell_type": "code",
   "execution_count": 7,
   "metadata": {},
   "outputs": [],
   "source": [
    "import os\n",
    "import shutil"
   ]
  },
  {
   "cell_type": "code",
   "execution_count": 8,
   "metadata": {},
   "outputs": [],
   "source": [
    "sub_dir_path = \"../THOR/Dataset/Disease A-Z/Annotated_Text\"\n",
    "target_dir_path = \"./files\"\n",
    "extracted_dir_path = \"./extracted_files\"\n",
    "\n",
    "os.makedirs(target_dir_path, exist_ok=True)\n",
    "os.makedirs(extracted_dir_path, exist_ok=True)"
   ]
  },
  {
   "cell_type": "code",
   "execution_count": 9,
   "metadata": {},
   "outputs": [],
   "source": [
    "\n",
    "for subdir, _, files in os.walk(sub_dir_path):\n",
    "    for file in files:\n",
    "        source_file_path = os.path.join(subdir, file)\n",
    "        target_file_path = os.path.join(target_dir_path, file)\n",
    "        \n",
    "\n",
    "        if not os.path.exists(target_file_path):\n",
    "            shutil.copy2(source_file_path, target_file_path)"
   ]
  },
  {
   "cell_type": "code",
   "execution_count": 10,
   "metadata": {},
   "outputs": [],
   "source": [
    "def count_files(directory):\n",
    "    # List all items in the directory\n",
    "    items = os.listdir(directory)\n",
    "    # Filter out only files (excluding directories)\n",
    "    files = [item for item in items if os.path.isfile(os.path.join(directory, item))]\n",
    "    return len(files)"
   ]
  },
  {
   "cell_type": "code",
   "execution_count": 11,
   "metadata": {},
   "outputs": [
    {
     "name": "stdout",
     "output_type": "stream",
     "text": [
      "314\n"
     ]
    }
   ],
   "source": [
    "print(count_files(target_dir_path))"
   ]
  },
  {
   "cell_type": "code",
   "execution_count": 12,
   "metadata": {},
   "outputs": [],
   "source": [
    "import json\n",
    "def read_jsonl_with_json(file_path):\n",
    "    json_objects = []\n",
    "    with open(file_path, \"r\") as file:\n",
    "        for line in file:\n",
    "            json_object = json.loads(line)\n",
    "            json_objects.append(json_object)\n",
    "    return json_objects"
   ]
  },
  {
   "cell_type": "code",
   "execution_count": 25,
   "metadata": {},
   "outputs": [],
   "source": [
    "for filename in os.listdir(target_dir_path):\n",
    "    file_path = os.path.join(target_dir_path,filename)\n",
    "    if os.path.isfile(file_path):\n",
    "        json_objects = read_jsonl_with_json(file_path)\n",
    "        # print(json_objects)\n",
    "        texts = [obj[\"text\"] for obj in json_objects]\n",
    "        combine_text = \"\\n\".join(texts)\n",
    "        # print(combine_text)\n",
    "        extracted_file_path = os.path.join(extracted_dir_path, filename)\n",
    "        with open(extracted_file_path, 'w') as file:\n",
    "            file.write(combine_text)"
   ]
  },
  {
   "cell_type": "code",
   "execution_count": 14,
   "metadata": {},
   "outputs": [],
   "source": [
    "def custom_relevance_score_fn(similarity_score: float) -> float:\n",
    "    # Example calculation (customize as needed)\n",
    "    relevance_score = 1 / (1 + similarity_score)\n",
    "    return relevance_score"
   ]
  },
  {
   "cell_type": "code",
   "execution_count": 15,
   "metadata": {},
   "outputs": [],
   "source": [
    "from langchain.embeddings import HuggingFaceEmbeddings\n",
    "from langchain.vectorstores import Chroma\n",
    "from langchain.text_splitter import RecursiveCharacterTextSplitter\n",
    "\n",
    "splitter = RecursiveCharacterTextSplitter(chunk_size=500, chunk_overlap=50, length_function=len, add_start_index=True)\n",
    "\n",
    "modelPath = \"sentence-transformers/sentence-t5-base\"\n",
    "custom_cache_dir = \"/scratch/general/vast/u1471428/dcp/models\"\n",
    "chroma_persist_directory = \"/scratch/general/vast/u1471428/dcp/chroma_db2\"\n",
    "\n",
    "embeddings_model = HuggingFaceEmbeddings(model_name=modelPath, cache_folder=custom_cache_dir)\n",
    "db = Chroma(persist_directory= chroma_persist_directory , embedding_function=embeddings_model, relevance_score_fn=custom_relevance_score_fn,collection_name=\"try3\")"
   ]
  },
  {
   "cell_type": "code",
   "execution_count": 11,
   "metadata": {},
   "outputs": [
    {
     "name": "stdout",
     "output_type": "stream",
     "text": [
      "<langchain_community.vectorstores.chroma.Chroma object at 0x14a1743a4100>\n"
     ]
    }
   ],
   "source": [
    "print(db)"
   ]
  },
  {
   "cell_type": "code",
   "execution_count": 31,
   "metadata": {},
   "outputs": [],
   "source": [
    "for filename in os.listdir(extracted_dir_path):\n",
    "    file_path = os.path.join(extracted_dir_path,filename)\n",
    "    if os.path.isfile(file_path):\n",
    "        long_text = \"\"\n",
    "        with open(file_path, \"r\") as file:\n",
    "            long_text = file.read()\n",
    "        # print(long_text)\n",
    "        long_text = long_text.replace(\"\\n\",\" \")\n",
    "        # print(long_text)\n",
    "\n",
    "        chunks = splitter.split_text(long_text)\n",
    "        chunks = splitter.create_documents(chunks)\n",
    "        for chunk in chunks:\n",
    "            # print(chunk)\n",
    "            db.add_documents([chunk])"
   ]
  },
  {
   "cell_type": "code",
   "execution_count": 16,
   "metadata": {},
   "outputs": [],
   "source": [
    "query = \"Give overview for disease Chronic Dacryoadentitis?\"\n",
    "results = db.similarity_search_with_score(query,k=10)"
   ]
  },
  {
   "cell_type": "code",
   "execution_count": 23,
   "metadata": {},
   "outputs": [
    {
     "name": "stdout",
     "output_type": "stream",
     "text": [
      "(Document(metadata={'start_index': 0}, page_content='long and joins lacrimal sac with the nasal cavity (nasolacrimal duct opens into the inferior meatus of the nose). #Treatment - Dacryocystitis - 9A11.2 Management should be carried out under medical supervision. Congenital dacryocystitis: Local massage over lacrimal sac: This is carried out by blocking the common canaliculus with finger and then stroking downward to increase hydrostatic pressure within lacrimal sac, which may open the membranous obstruction in the nasolacrimal duct. Topical'), 0.25609061121940613)\n"
     ]
    }
   ],
   "source": [
    "print(result)"
   ]
  },
  {
   "cell_type": "code",
   "execution_count": 17,
   "metadata": {},
   "outputs": [
    {
     "name": "stdout",
     "output_type": "stream",
     "text": [
      "Dacryoadenitis often lacks the inflammatory signs and may present with enlargement only, then it has to be distinguished from the neoplasm of the gland. #Treatment - Dacryoadenitis - 1D80.Y Treatment of the disease should be under medical supervision. Treatment depends upon the onset of disease process and its aetiology. Acute dacryoadenitis: Viral dacryoadenitis: It is usually self-limiting and does not require any treatment. Bacterial dacryoadenitis: Broad spectrum antibiotics (such as\n",
      "0.24124547839164734\n",
      "carries a good prognosis. Chronic dacryoadenitis: Prognosis depends upon the underlying disease and its treatment. #Diagnosis - Dacryoadenitis - 1D80.Y Diagnosis is based on the clinical presentation of the patient and the supportive tests being conducted. Patient may present with: In acute dacryoadenitis: There is usually unilateral, severe pain, associated redness with pressure sensation in superotemporal region of the eye. In chronic dacryoadenitis: Unilateral or bilateral painless\n",
      "0.24480852484703064\n",
      "#Complications - Dacryocystitis - 9A11.2 Dacryocystitis may lead to complications like: Lacrimal sac abscess, Fistula formation, Orbital cellulitis, Cavernous sinus thrombosis, Meningitis. #Causes - Dacryocystitis - 9A11.2 The causative agents for dacryocystitis may be: In children: Staphylococcus aureus, β-haemolytic streptococcus, Pneumococcus, Haemophilus influenzae. In adults: Staphylococcus epidermidis, Staphylococcus aureus, Pneumococcus, Pseudomonas aeruginosa, Fusobacterium. #Diagnosis -\n",
      "0.24482639133930206\n",
      "Broad spectrum antibiotics (such as cephalosporins) may be started with, awaiting culture report. Fungal dacryoadenitis: It may require anti-fungal agents. Protozoal dacryoadenitis: Specific antiamoebic may be prescribed. Chronic dacryoadenitis: In chronic dacryoadenitis, underlying systemic disease is treated, which is guided by lacrimal gland biopsy. Prognosis: Acute dacryoadenitis: Acute dacryoadenitis is self-limited mostly and therefore carries a good prognosis. Chronic dacryoadenitis:\n",
      "0.24728813767433167\n",
      "long and joins lacrimal sac with the nasal cavity (nasolacrimal duct opens into the inferior meatus of the nose). #Treatment - Dacryocystitis - 9A11.2 Management should be carried out under medical supervision. Congenital dacryocystitis: Local massage over lacrimal sac: This is carried out by blocking the common canaliculus with finger and then stroking downward to increase hydrostatic pressure within lacrimal sac, which may open the membranous obstruction in the nasolacrimal duct. Topical\n",
      "0.25609061121940613\n",
      "tumours may also cause orbital and lacrimal gland inflammation.  #Symptoms - Dacryoadenitis - 1D80.Y Symptoms at presentation depend upon whether the disease process is acute or chronic. Acute dacryoadenitis: It may present acutely with: Swelling of the lateral third of the upper lid, Pain in the lid with associated feeling of pressure in the eye, Redness of the lid, Conjunctival swelling, Conjunctival redness, Mucopurulent discharge from the eye, Swelling of the lymph nodes (submandibular),\n",
      "0.25644752383232117\n",
      "eye, Swelling of the lymph nodes (submandibular), Bulging of the eyeball, Downward and inward displacement of the globe, Difficulty in eye movements. Chronic dacryoadenitis: It may show: Enlarged lacrimal gland which is mobile. Mild to severe features of dry eye.   #Overview - Dacryoadenitis - 1D80.Y Dacryoadenitis is an inflammation of the lacrimal gland. Dacryoadenitis may be acute or chronic. Lacrimal gland is located in the superotemporal part of the orbit. It consists of two parts,\n",
      "0.25731122493743896\n",
      "#Causes - Dacryoadenitis - 1D80.Y The causes of lacrimal gland inflammation may be classified as: Infectious, Idiopathic, Autoimmune, Lymphoproliferative. Infectious dacryoadenitis: It may be: Viral dacryoadenitis: Viral dacryoadenitis is more common than bacterial, particularly in children and young adults. Bacterial dacryoadenitis: Acute suppurative bacterial dacryoadenitis is less common. Fungal dacryoadenitis: It is rare and may be caused by: Histoplasmosis. Blastomycosis. Protozoal\n",
      "0.2606077492237091\n",
      "of diphtheria affects the throat and sometimes the tonsils. Another type causes ulcers on the skin; these are more common in the tropics (places where all twelve months have mean temperatures of at least 18 °C). Diphtheria particularly affects the children aged 1 to 5 years of age. In temperate climates (have four seasons: summer, autumn, winter and spring) diphtheria tends to occur during the colder months. #Diagnosis - Diphtheria - 1C17.Z Diagnosis of diphtheria is usually made on the basis\n",
      "0.26063430309295654\n",
      "symptomatic. Distichiasis may be associated with signs of conjunctival redness and chemosis, epithelial breakdown of cornea, corneal scarring or pannus formation. #Symptoms - Distichiasis - LA14.0Y Symptoms of distichiasis may include Decrease of vision. Pain in eyes. Redness. Irritation. Foreign body sensation. Watering. Chemosis. Corneal scarring. Corneal ulcer. #Prevention - Distichiasis - LA14.0Y Acquired distichiasis may be delayed by proper treatment of diseases such as blepharitis, and\n",
      "0.2697674632072449\n"
     ]
    }
   ],
   "source": [
    "for result in results:\n",
    "    print(result[0].page_content)\n",
    "    print(result[1])"
   ]
  },
  {
   "cell_type": "code",
   "execution_count": 26,
   "metadata": {},
   "outputs": [
    {
     "ename": "OperationalError",
     "evalue": "attempt to write a readonly database",
     "output_type": "error",
     "traceback": [
      "\u001b[0;31m---------------------------------------------------------------------------\u001b[0m",
      "\u001b[0;31mOperationalError\u001b[0m                          Traceback (most recent call last)",
      "Cell \u001b[0;32mIn[26], line 1\u001b[0m\n\u001b[0;32m----> 1\u001b[0m \u001b[43mdb\u001b[49m\u001b[38;5;241;43m.\u001b[39;49m\u001b[43mdelete_collection\u001b[49m\u001b[43m(\u001b[49m\u001b[43m)\u001b[49m\n",
      "File \u001b[0;32m~/miniconda3/envs/mapqa/lib/python3.9/site-packages/langchain_community/vectorstores/chroma.py:574\u001b[0m, in \u001b[0;36mChroma.delete_collection\u001b[0;34m(self)\u001b[0m\n\u001b[1;32m    572\u001b[0m \u001b[38;5;28;01mdef\u001b[39;00m \u001b[38;5;21mdelete_collection\u001b[39m(\u001b[38;5;28mself\u001b[39m) \u001b[38;5;241m-\u001b[39m\u001b[38;5;241m>\u001b[39m \u001b[38;5;28;01mNone\u001b[39;00m:\n\u001b[1;32m    573\u001b[0m \u001b[38;5;250m    \u001b[39m\u001b[38;5;124;03m\"\"\"Delete the collection.\"\"\"\u001b[39;00m\n\u001b[0;32m--> 574\u001b[0m     \u001b[38;5;28;43mself\u001b[39;49m\u001b[38;5;241;43m.\u001b[39;49m\u001b[43m_client\u001b[49m\u001b[38;5;241;43m.\u001b[39;49m\u001b[43mdelete_collection\u001b[49m\u001b[43m(\u001b[49m\u001b[38;5;28;43mself\u001b[39;49m\u001b[38;5;241;43m.\u001b[39;49m\u001b[43m_collection\u001b[49m\u001b[38;5;241;43m.\u001b[39;49m\u001b[43mname\u001b[49m\u001b[43m)\u001b[49m\n",
      "File \u001b[0;32m~/miniconda3/envs/mapqa/lib/python3.9/site-packages/chromadb/api/client.py:178\u001b[0m, in \u001b[0;36mClient.delete_collection\u001b[0;34m(self, name)\u001b[0m\n\u001b[1;32m    173\u001b[0m \u001b[38;5;129m@override\u001b[39m\n\u001b[1;32m    174\u001b[0m \u001b[38;5;28;01mdef\u001b[39;00m \u001b[38;5;21mdelete_collection\u001b[39m(\n\u001b[1;32m    175\u001b[0m     \u001b[38;5;28mself\u001b[39m,\n\u001b[1;32m    176\u001b[0m     name: \u001b[38;5;28mstr\u001b[39m,\n\u001b[1;32m    177\u001b[0m ) \u001b[38;5;241m-\u001b[39m\u001b[38;5;241m>\u001b[39m \u001b[38;5;28;01mNone\u001b[39;00m:\n\u001b[0;32m--> 178\u001b[0m     \u001b[38;5;28;01mreturn\u001b[39;00m \u001b[38;5;28;43mself\u001b[39;49m\u001b[38;5;241;43m.\u001b[39;49m\u001b[43m_server\u001b[49m\u001b[38;5;241;43m.\u001b[39;49m\u001b[43mdelete_collection\u001b[49m\u001b[43m(\u001b[49m\n\u001b[1;32m    179\u001b[0m \u001b[43m        \u001b[49m\u001b[43mname\u001b[49m\u001b[38;5;241;43m=\u001b[39;49m\u001b[43mname\u001b[49m\u001b[43m,\u001b[49m\n\u001b[1;32m    180\u001b[0m \u001b[43m        \u001b[49m\u001b[43mtenant\u001b[49m\u001b[38;5;241;43m=\u001b[39;49m\u001b[38;5;28;43mself\u001b[39;49m\u001b[38;5;241;43m.\u001b[39;49m\u001b[43mtenant\u001b[49m\u001b[43m,\u001b[49m\n\u001b[1;32m    181\u001b[0m \u001b[43m        \u001b[49m\u001b[43mdatabase\u001b[49m\u001b[38;5;241;43m=\u001b[39;49m\u001b[38;5;28;43mself\u001b[39;49m\u001b[38;5;241;43m.\u001b[39;49m\u001b[43mdatabase\u001b[49m\u001b[43m,\u001b[49m\n\u001b[1;32m    182\u001b[0m \u001b[43m    \u001b[49m\u001b[43m)\u001b[49m\n",
      "File \u001b[0;32m~/miniconda3/envs/mapqa/lib/python3.9/site-packages/chromadb/telemetry/opentelemetry/__init__.py:146\u001b[0m, in \u001b[0;36mtrace_method.<locals>.decorator.<locals>.wrapper\u001b[0;34m(*args, **kwargs)\u001b[0m\n\u001b[1;32m    144\u001b[0m \u001b[38;5;28;01mglobal\u001b[39;00m tracer, granularity\n\u001b[1;32m    145\u001b[0m \u001b[38;5;28;01mif\u001b[39;00m trace_granularity \u001b[38;5;241m<\u001b[39m granularity:\n\u001b[0;32m--> 146\u001b[0m     \u001b[38;5;28;01mreturn\u001b[39;00m \u001b[43mf\u001b[49m\u001b[43m(\u001b[49m\u001b[38;5;241;43m*\u001b[39;49m\u001b[43margs\u001b[49m\u001b[43m,\u001b[49m\u001b[43m \u001b[49m\u001b[38;5;241;43m*\u001b[39;49m\u001b[38;5;241;43m*\u001b[39;49m\u001b[43mkwargs\u001b[49m\u001b[43m)\u001b[49m\n\u001b[1;32m    147\u001b[0m \u001b[38;5;28;01mif\u001b[39;00m \u001b[38;5;129;01mnot\u001b[39;00m tracer:\n\u001b[1;32m    148\u001b[0m     \u001b[38;5;28;01mreturn\u001b[39;00m f(\u001b[38;5;241m*\u001b[39margs, \u001b[38;5;241m*\u001b[39m\u001b[38;5;241m*\u001b[39mkwargs)\n",
      "File \u001b[0;32m~/miniconda3/envs/mapqa/lib/python3.9/site-packages/chromadb/api/segment.py:338\u001b[0m, in \u001b[0;36mSegmentAPI.delete_collection\u001b[0;34m(self, name, tenant, database)\u001b[0m\n\u001b[1;32m    333\u001b[0m existing \u001b[38;5;241m=\u001b[39m \u001b[38;5;28mself\u001b[39m\u001b[38;5;241m.\u001b[39m_sysdb\u001b[38;5;241m.\u001b[39mget_collections(\n\u001b[1;32m    334\u001b[0m     name\u001b[38;5;241m=\u001b[39mname, tenant\u001b[38;5;241m=\u001b[39mtenant, database\u001b[38;5;241m=\u001b[39mdatabase\n\u001b[1;32m    335\u001b[0m )\n\u001b[1;32m    337\u001b[0m \u001b[38;5;28;01mif\u001b[39;00m existing:\n\u001b[0;32m--> 338\u001b[0m     \u001b[38;5;28;43mself\u001b[39;49m\u001b[38;5;241;43m.\u001b[39;49m\u001b[43m_sysdb\u001b[49m\u001b[38;5;241;43m.\u001b[39;49m\u001b[43mdelete_collection\u001b[49m\u001b[43m(\u001b[49m\n\u001b[1;32m    339\u001b[0m \u001b[43m        \u001b[49m\u001b[43mexisting\u001b[49m\u001b[43m[\u001b[49m\u001b[38;5;241;43m0\u001b[39;49m\u001b[43m]\u001b[49m\u001b[43m[\u001b[49m\u001b[38;5;124;43m\"\u001b[39;49m\u001b[38;5;124;43mid\u001b[39;49m\u001b[38;5;124;43m\"\u001b[39;49m\u001b[43m]\u001b[49m\u001b[43m,\u001b[49m\u001b[43m \u001b[49m\u001b[43mtenant\u001b[49m\u001b[38;5;241;43m=\u001b[39;49m\u001b[43mtenant\u001b[49m\u001b[43m,\u001b[49m\u001b[43m \u001b[49m\u001b[43mdatabase\u001b[49m\u001b[38;5;241;43m=\u001b[39;49m\u001b[43mdatabase\u001b[49m\n\u001b[1;32m    340\u001b[0m \u001b[43m    \u001b[49m\u001b[43m)\u001b[49m\n\u001b[1;32m    341\u001b[0m     \u001b[38;5;28;01mfor\u001b[39;00m s \u001b[38;5;129;01min\u001b[39;00m \u001b[38;5;28mself\u001b[39m\u001b[38;5;241m.\u001b[39m_manager\u001b[38;5;241m.\u001b[39mdelete_segments(existing[\u001b[38;5;241m0\u001b[39m][\u001b[38;5;124m\"\u001b[39m\u001b[38;5;124mid\u001b[39m\u001b[38;5;124m\"\u001b[39m]):\n\u001b[1;32m    342\u001b[0m         \u001b[38;5;28mself\u001b[39m\u001b[38;5;241m.\u001b[39m_sysdb\u001b[38;5;241m.\u001b[39mdelete_segment(s)\n",
      "File \u001b[0;32m~/miniconda3/envs/mapqa/lib/python3.9/site-packages/chromadb/telemetry/opentelemetry/__init__.py:146\u001b[0m, in \u001b[0;36mtrace_method.<locals>.decorator.<locals>.wrapper\u001b[0;34m(*args, **kwargs)\u001b[0m\n\u001b[1;32m    144\u001b[0m \u001b[38;5;28;01mglobal\u001b[39;00m tracer, granularity\n\u001b[1;32m    145\u001b[0m \u001b[38;5;28;01mif\u001b[39;00m trace_granularity \u001b[38;5;241m<\u001b[39m granularity:\n\u001b[0;32m--> 146\u001b[0m     \u001b[38;5;28;01mreturn\u001b[39;00m \u001b[43mf\u001b[49m\u001b[43m(\u001b[49m\u001b[38;5;241;43m*\u001b[39;49m\u001b[43margs\u001b[49m\u001b[43m,\u001b[49m\u001b[43m \u001b[49m\u001b[38;5;241;43m*\u001b[39;49m\u001b[38;5;241;43m*\u001b[39;49m\u001b[43mkwargs\u001b[49m\u001b[43m)\u001b[49m\n\u001b[1;32m    147\u001b[0m \u001b[38;5;28;01mif\u001b[39;00m \u001b[38;5;129;01mnot\u001b[39;00m tracer:\n\u001b[1;32m    148\u001b[0m     \u001b[38;5;28;01mreturn\u001b[39;00m f(\u001b[38;5;241m*\u001b[39margs, \u001b[38;5;241m*\u001b[39m\u001b[38;5;241m*\u001b[39mkwargs)\n",
      "File \u001b[0;32m~/miniconda3/envs/mapqa/lib/python3.9/site-packages/chromadb/db/mixins/sysdb.py:507\u001b[0m, in \u001b[0;36mSqlSysDB.delete_collection\u001b[0;34m(self, id, tenant, database)\u001b[0m\n\u001b[1;32m    505\u001b[0m sql, params \u001b[38;5;241m=\u001b[39m get_sql(q, \u001b[38;5;28mself\u001b[39m\u001b[38;5;241m.\u001b[39mparameter_format())\n\u001b[1;32m    506\u001b[0m sql \u001b[38;5;241m=\u001b[39m sql \u001b[38;5;241m+\u001b[39m \u001b[38;5;124m\"\u001b[39m\u001b[38;5;124m RETURNING id\u001b[39m\u001b[38;5;124m\"\u001b[39m\n\u001b[0;32m--> 507\u001b[0m result \u001b[38;5;241m=\u001b[39m \u001b[43mcur\u001b[49m\u001b[38;5;241;43m.\u001b[39;49m\u001b[43mexecute\u001b[49m\u001b[43m(\u001b[49m\u001b[43msql\u001b[49m\u001b[43m,\u001b[49m\u001b[43m \u001b[49m\u001b[43mparams\u001b[49m\u001b[43m)\u001b[49m\u001b[38;5;241m.\u001b[39mfetchone()\n\u001b[1;32m    508\u001b[0m \u001b[38;5;28;01mif\u001b[39;00m \u001b[38;5;129;01mnot\u001b[39;00m result:\n\u001b[1;32m    509\u001b[0m     \u001b[38;5;28;01mraise\u001b[39;00m NotFoundError(\u001b[38;5;124mf\u001b[39m\u001b[38;5;124m\"\u001b[39m\u001b[38;5;124mCollection \u001b[39m\u001b[38;5;132;01m{\u001b[39;00m\u001b[38;5;28mid\u001b[39m\u001b[38;5;132;01m}\u001b[39;00m\u001b[38;5;124m not found\u001b[39m\u001b[38;5;124m\"\u001b[39m)\n",
      "\u001b[0;31mOperationalError\u001b[0m: attempt to write a readonly database"
     ]
    }
   ],
   "source": [
    "db.delete_collection()"
   ]
  },
  {
   "cell_type": "code",
   "execution_count": 17,
   "metadata": {},
   "outputs": [],
   "source": [
    "## training \n",
    "import json\n",
    "from constants import *\n",
    "import pandas as pd\n",
    "with open(qa_disease_precaution, \"r\") as file:\n",
    "    json_data_p = json.load(file)\n",
    "\n",
    "with open(qa_disease_symptom, \"r\") as file:\n",
    "    json_data_s = json.load(file)\n",
    "\n",
    "precaution_qa_df = pd.read_json(qa_disease_precaution)\n",
    "\n",
    "symptom_qa_df = pd.read_json(qa_disease_symptom)\n",
    "\n",
    "\n",
    "train_df = pd.concat([precaution_qa_df, symptom_qa_df], ignore_index=True)"
   ]
  },
  {
   "cell_type": "code",
   "execution_count": 20,
   "metadata": {},
   "outputs": [],
   "source": [
    "def get_context(query):\n",
    "    results = db.similarity_search_with_score(query, k=10)\n",
    "    contexts = \"\"\n",
    "    flag = False\n",
    "    for result in results:\n",
    "        context = (result[0].page_content)\n",
    "        score = (result[1])\n",
    "        if score >0.1:\n",
    "            flag = True\n",
    "            contexts+= context + \" \"\n",
    "    if flag:\n",
    "        return context\n",
    "    return None\n",
    "\n",
    "        \n",
    "    "
   ]
  },
  {
   "cell_type": "code",
   "execution_count": 23,
   "metadata": {},
   "outputs": [
    {
     "name": "stdout",
     "output_type": "stream",
     "text": [
      "none count 0\n"
     ]
    }
   ],
   "source": [
    "json_context_data = []\n",
    "none_count = 0\n",
    "for ind, row in train_df.iterrows():\n",
    "    question = row[\"Question\"]\n",
    "    answer = row[\"answer\"]\n",
    "    context = get_context(question)\n",
    "    if not context:\n",
    "        none_count+=1\n",
    "        continue\n",
    "    \n",
    "    query = f\"question: {question} context: {context}\"\n",
    "    obj = {}\n",
    "    obj[\"query\"] = query\n",
    "    obj[\"answer\"] = answer\n",
    "    json_context_data.append(obj)\n",
    "\n",
    "print(\"none count\", none_count)\n",
    "with open(\"context_query_QA_diesease.json\",'w') as file:\n",
    "    json.dump(json_context_data, file)"
   ]
  },
  {
   "cell_type": "code",
   "execution_count": 25,
   "metadata": {},
   "outputs": [
    {
     "name": "stdout",
     "output_type": "stream",
     "text": [
      "none count 0\n"
     ]
    }
   ],
   "source": [
    "test_df = pd.read_json(\"test_disease_QA.json\")\n",
    "test_json_context_data = []\n",
    "none_count = 0\n",
    "for ind, row in test_df.iterrows():\n",
    "    question = row[\"Question\"]\n",
    "    answer = row[\"answer\"]\n",
    "    context = get_context(question)\n",
    "    if not context:\n",
    "        none_count += 1\n",
    "        continue\n",
    "\n",
    "    query = f\"question: {question} context: {context}\"\n",
    "    obj = {}\n",
    "    obj[\"query\"] = query\n",
    "    obj[\"answer\"] = answer\n",
    "    test_json_context_data.append(obj)\n",
    "\n",
    "print(\"none count\", none_count)\n",
    "with open(\"test_context_query_QA_diesease.json\", \"w\") as file:\n",
    "    json.dump(test_json_context_data, file)"
   ]
  },
  {
   "cell_type": "code",
   "execution_count": null,
   "metadata": {},
   "outputs": [],
   "source": []
  },
  {
   "cell_type": "code",
   "execution_count": null,
   "metadata": {},
   "outputs": [],
   "source": []
  },
  {
   "cell_type": "code",
   "execution_count": 18,
   "metadata": {},
   "outputs": [],
   "source": [
    "from constants import *"
   ]
  },
  {
   "cell_type": "code",
   "execution_count": 21,
   "metadata": {},
   "outputs": [
    {
     "name": "stdout",
     "output_type": "stream",
     "text": [
      "none count 0\n"
     ]
    }
   ],
   "source": [
    "import pandas as pd\n",
    "import json\n",
    "\n",
    "train_df = pd.read_json(train_disease_file)\n",
    "json_context_data = []\n",
    "\n",
    "none_count = 0\n",
    "for ind, row in train_df.iterrows():\n",
    "    question = row[\"question\"]\n",
    "    answer = row[\"answer\"]\n",
    "    context = get_context(question)\n",
    "    if not context:\n",
    "        none_count+=1\n",
    "        continue\n",
    "    \n",
    "    query = f\"question: {question} context: {context}\"\n",
    "    obj = {}\n",
    "    obj[\"query\"] = query\n",
    "    obj[\"answer\"] = answer\n",
    "    json_context_data.append(obj)\n",
    "\n",
    "print(\"none count\", none_count)\n",
    "with open(\"context_query_QA_diesease_1.json\",'w') as file:\n",
    "    json.dump(json_context_data, file)"
   ]
  },
  {
   "cell_type": "code",
   "execution_count": 22,
   "metadata": {},
   "outputs": [
    {
     "name": "stdout",
     "output_type": "stream",
     "text": [
      "none count 0\n"
     ]
    }
   ],
   "source": [
    "test_df = pd.read_json(test_disease_file)\n",
    "test_json_context_data = []\n",
    "none_count = 0\n",
    "for ind, row in test_df.iterrows():\n",
    "    question = row[\"question\"]\n",
    "    answer = row[\"answer\"]\n",
    "    context = get_context(question)\n",
    "    if not context:\n",
    "        none_count += 1\n",
    "        continue\n",
    "\n",
    "    query = f\"question: {question} context: {context}\"\n",
    "    obj = {}\n",
    "    obj[\"query\"] = query\n",
    "    obj[\"answer\"] = answer\n",
    "    test_json_context_data.append(obj)\n",
    "\n",
    "print(\"none count\", none_count)\n",
    "with open(\"test_context_query_QA_diesease_1.json\", \"w\") as file:\n",
    "    json.dump(test_json_context_data, file)"
   ]
  },
  {
   "cell_type": "code",
   "execution_count": null,
   "metadata": {},
   "outputs": [],
   "source": []
  },
  {
   "cell_type": "markdown",
   "metadata": {},
   "source": [
    "## Get disease names from the extracted_files"
   ]
  },
  {
   "cell_type": "code",
   "execution_count": 1,
   "metadata": {},
   "outputs": [],
   "source": [
    "import os\n",
    "extracted_dir_path = \"./extracted_files\""
   ]
  },
  {
   "cell_type": "code",
   "execution_count": 6,
   "metadata": {},
   "outputs": [
    {
     "name": "stdout",
     "output_type": "stream",
     "text": [
      "314\n",
      "\"acl injury\",\n",
      "\"abdominal pain\",\n",
      "\"abdominal aortic aneurysm\",\n",
      "\"abducens nerve palsy\",\n",
      "\"abnormal uterine bleeding\",\n",
      "\"absence seizure\",\n",
      "\"acanthosis nigricans\",\n",
      "\"achalasia\",\n",
      "\"achilles tendinitis\",\n",
      "\"achilles tendon rupture\",\n",
      "\"acne\",\n",
      "\"acoustic neuroma\",\n",
      "\"acquired immuno deficiency syndrome (aids)\",\n",
      "\"acromegaly\",\n",
      "\"actinic keratosis\",\n",
      "\"acute coronary syndrome\",\n",
      "\"acute encephalitis\",\n",
      "\"acute flaccid myelitis (afm)\",\n",
      "\"adult inclusion conjunctivitis\",\n",
      "\"alcohol abuse and alcoholism\",\n",
      "\"alopecia (hair loss)\",\n",
      "\"alzheimers disease\",\n",
      "\"amaurosis fugax\",\n",
      "\"amblyopia\",\n",
      "\"amoebiasis\",\n",
      "\"anaemia\",\n",
      "\"aniseikonia\",\n",
      "\"anisometropia\",\n",
      "\"ankyloblepharon\",\n",
      "\"antepartum hemorrhage\",\n",
      "\"anthrax\",\n",
      "\"anxiety\",\n",
      "\"aphakia\",\n",
      "\"appendicitis\",\n",
      "\"arthritis\",\n",
      "\"asbestos\",\n",
      "\"asthma\",\n",
      "\"astigmatism\",\n",
      "\"atherosclerosis\",\n",
      "\"atopic keratoconjunctivitis\",\n",
      "\"attention deficit hyperactivity disorder\",\n",
      "\"autism\",\n",
      "\"avian influenza\",\n",
      "\"back pain\",\n",
      "\"bad breath\",\n",
      "\"band shaped keratopathy\",\n",
      "\"bedsores\",\n",
      "\"bells palsy\",\n",
      "\"benign essential blepharospasm\",\n",
      "\"bleeding gums\",\n",
      "\"blepharitis\",\n",
      "\"blepharochalasis\",\n",
      "\"blindness\",\n",
      "\"brain tumour\",\n",
      "\"breast cancer\",\n",
      "\"bronchitis\",\n",
      "\"brucellosis\",\n",
      "\"bruxism\",\n",
      "\"burns\",\n",
      "\"cancer\",\n",
      "\"capillary haemangioma\",\n",
      "\"carpal tunnel syndrome\",\n",
      "\"cavernous haemangioma\",\n",
      "\"cavities\",\n",
      "\"cervical cancer\",\n",
      "\"chalazion\",\n",
      "\"chalcosis\",\n",
      "\"chemical injuries to the eyes\",\n",
      "\"chickenpox\",\n",
      "\"chikungunya fever\",\n",
      "\"child abuse\",\n",
      "\"cholera\",\n",
      "\"chronic obstructive pulmonary disease\",\n",
      "\"cleft lip and cleft palate\",\n",
      "\"colorectal cancer\",\n",
      "\"commotio retina\",\n",
      "\"computer vision syndrome\",\n",
      "\"congenital capillary haemangioma\",\n",
      "\"conjunctival concretions\",\n",
      "\"conjunctivochalasis\",\n",
      "\"corneal abrasion\",\n",
      "\"coronary heart disease\",\n",
      "\"coronavirus disease\",\n",
      "\"cough\",\n",
      "\"crimean congo haemorrhagic fever\",\n",
      "\"dacryoadenitis\",\n",
      "\"dacryocystitis\",\n",
      "\"deafness\",\n",
      "\"dementia\",\n",
      "\"dengue fever\",\n",
      "\"dermatochalasis\",\n",
      "\"diabetes mellitus\",\n",
      "\"diabetic retinopathy\",\n",
      "\"diarrhea\",\n",
      "\"digit sucking\",\n",
      "\"diphtheria\",\n",
      "\"disabilities\",\n",
      "\"distichiasis\",\n",
      "\"double elevator palsy\",\n",
      "\"downs syndrome\",\n",
      "\"dracunculiasis\",\n",
      "\"duane retraction syndrome\",\n",
      "\"dyslexia and ocular features\",\n",
      "\"early pregnancy loss\",\n",
      "\"ebola virus disease\",\n",
      "\"eclampsia\",\n",
      "\"ectopic pregnancy\",\n",
      "\"ectropion\",\n",
      "\"eczema\",\n",
      "\"endometriosis\",\n",
      "\"entropion\",\n",
      "\"epiblepharon\",\n",
      "\"epibulbar dermoid\",\n",
      "\"epicanthus\",\n",
      "\"epidemic dropsy\",\n",
      "\"epidemic keratoconjunctivitis\",\n",
      "\"epilepsy\",\n",
      "\"euryblepharon\",\n",
      "\"exotropia\",\n",
      "\"exposure keratopathy\",\n",
      "\"eyelid varix\",\n",
      "\"factitious keratoconjunctivitis\",\n",
      "\"female genital mutilation\",\n",
      "\"fibroids\",\n",
      "\"fibromyalgia\",\n",
      "\"filamentary keratitis\",\n",
      "\"filariasis\",\n",
      "\"floppy eyelid syndrome\",\n",
      "\"fluorosis\",\n",
      "\"food poisoning\",\n",
      "\"fracture\",\n",
      "\"frey s syndrome\",\n",
      "\"frost bite\",\n",
      "\"gaming disorder\",\n",
      "\"gangrene\",\n",
      "\"gastro esophageal reflux disease\",\n",
      "\"giant papillary conjunctivitis\",\n",
      "\"glaucoma\",\n",
      "\"goitre\",\n",
      "\"gonorrhea\",\n",
      "\"guillain barre syndrome\",\n",
      "\"gum disease\",\n",
      "\"haemophilia\",\n",
      "\"hand foot and mouth disease\",\n",
      "\"heat waves\",\n",
      "\"helminthiasis\",\n",
      "\"hemangioma\",\n",
      "\"hepatitis\",\n",
      "\"herpes simplex\",\n",
      "\"heterophoria\",\n",
      "\"high risk pregnancy\",\n",
      "\"horner syndrome\",\n",
      "\"human papillomavirus infection\",\n",
      "\"hyperemesis gravidarum\",\n",
      "\"hypermetropia\",\n",
      "\"hypertension\",\n",
      "\"hypertensive retinopathy\",\n",
      "\"hypervitaminosis a\",\n",
      "\"ichthyosis\",\n",
      "\"infertility\",\n",
      "\"inflammatory bowel disease\",\n",
      "\"insomnia\",\n",
      "\"intrauterine growth restriction\",\n",
      "\"iron deficiency anemia\",\n",
      "\"japanese encephalitis\",\n",
      "\"jaundice\",\n",
      "\"kala azar\",\n",
      "\"kaposis sarcoma\",\n",
      "\"keratoconjunctivitis sicca\",\n",
      "\"keratoconus\",\n",
      "\"keratoglobus\",\n",
      "\"keratosis pilaris\",\n",
      "\"kyasanur forest disease\",\n",
      "\"lagophthalmos\",\n",
      "\"lead poisoning\",\n",
      "\"leprosy\",\n",
      "\"leptospirosis\",\n",
      "\"leukemia\",\n",
      "\"lichen planus\",\n",
      "\"lid imbrication syndrome\",\n",
      "\"ligneous conjunctivitis\",\n",
      "\"long covid\",\n",
      "\"low vision\",\n",
      "\"lymphoedema\",\n",
      "\"madarosis\",\n",
      "\"malaria\",\n",
      "\"malocclusion\",\n",
      "\"mastitis\",\n",
      "\"maternal anemia\",\n",
      "\"measles\",\n",
      "\"meningitis\",\n",
      "\"middle east respiratory syndrome\",\n",
      "\"migraine\",\n",
      "\"monkeypox\",\n",
      "\"moorens ulcer\",\n",
      "\"mouth breathing\",\n",
      "\"mouth ulcers\",\n",
      "\"mucormycosis\",\n",
      "\"mumps\",\n",
      "\"myocardial infarction\",\n",
      "\"myopia\",\n",
      "\"narcolepsy\",\n",
      "\"nasal polyps\",\n",
      "\"neonatal conjunctivitis\",\n",
      "\"neonatal respiratory failure\",\n",
      "\"neuralgia\",\n",
      "\"neurotrophic keratopathy\",\n",
      "\"nipah virus infection\",\n",
      "\"nonalcoholic fatty liver disease\",\n",
      "\"obesity\",\n",
      "\"obsessive compulsive disorder\",\n",
      "\"ocular graft versus host disease\",\n",
      "\"oral cancer\",\n",
      "\"orbital cavernous haemangioma\",\n",
      "\"orbital dermoid\",\n",
      "\"orbital fat prolapse\",\n",
      "\"orbital haemangiopericytoma\",\n",
      "\"orbital lymphangioma\",\n",
      "\"orbital solitary fibrous tumour\",\n",
      "\"orbital varix\",\n",
      "\"osteoarthritis\",\n",
      "\"osteomyelitis\",\n",
      "\"osteoporosis\",\n",
      "\"otitis media\",\n",
      "\"papilloedema\",\n",
      "\"parkinsons disease\",\n",
      "\"pellucid marginal degeneration\",\n",
      "\"perennial allergic conjunctivitis\",\n",
      "\"pericarditis\",\n",
      "\"pharyngoconjunctival fever\",\n",
      "\"phlyctenular keratoconjunctivitis\",\n",
      "\"photophthalmia\",\n",
      "\"pinguecula\",\n",
      "\"plague\",\n",
      "\"pneumonia\",\n",
      "\"poliomyelitis\",\n",
      "\"polycystic ovary syndrome\",\n",
      "\"post menopausal bleeding\",\n",
      "\"post polio syndrome\",\n",
      "\"postherpetic neuralgia\",\n",
      "\"postpartum depression\",\n",
      "\"postpartum haemorrhage\",\n",
      "\"preeclampsia\",\n",
      "\"premenstrual syndrome\",\n",
      "\"presbyopia\",\n",
      "\"preterm birth\",\n",
      "\"pseudophakia\",\n",
      "\"pseudostrabismus\",\n",
      "\"psoriasis\",\n",
      "\"pterygium\",\n",
      "\"puerperal sepsis\",\n",
      "\"q fever\",\n",
      "\"quinsy\",\n",
      "\"rabies\",\n",
      "\"ramsay hunt syndrome\",\n",
      "\"rare diseases\",\n",
      "\"raynauds phenomenon\",\n",
      "\"recurrent corneal erosion syndrome\",\n",
      "\"reiters syndrome\",\n",
      "\"retinopathy of prematurity\",\n",
      "\"rheumatic heart disease\",\n",
      "\"rubella\",\n",
      "\"salzmanns nodular degeneration\",\n",
      "\"sarcoidosis\",\n",
      "\"sarcoma\",\n",
      "\"scabies\",\n",
      "\"schizophrenia\",\n",
      "\"scrub typhus\",\n",
      "\"scurvy\",\n",
      "\"seasonal allergic conjunctivitis\",\n",
      "\"severe acute respiratory syndrome\",\n",
      "\"sexually transmitted infections\",\n",
      "\"shaken baby syndrome\",\n",
      "\"siderosis bulbi\",\n",
      "\"silicosis\",\n",
      "\"solar retinopathy\",\n",
      "\"spheroidal degeneration\",\n",
      "\"spinal cord injury\",\n",
      "\"steatoablepharon\",\n",
      "\"stroke\",\n",
      "\"sub conjunctival haemorrhage\",\n",
      "\"substance abuse\",\n",
      "\"superior limbic keratoconjunctivitis\",\n",
      "\"swine flu\",\n",
      "\"syphilis\",\n",
      "\"taeniasis\",\n",
      "\"terriens marginal degeneration\",\n",
      "\"tetanus\",\n",
      "\"thalassaemia\",\n",
      "\"thermal injuries to the eye\",\n",
      "\"tics and eye manifestations\",\n",
      "\"tomato fever\",\n",
      "\"tooth sensitivity\",\n",
      "\"toxic conjunctivitis\",\n",
      "\"trachoma\",\n",
      "\"traumatic hyphaema\",\n",
      "\"trichiasis\",\n",
      "\"trochlear nerve palsy\",\n",
      "\"tuberculosis\",\n",
      "\"turners syndrome\",\n",
      "\"typhoid\",\n",
      "\"ulcerative colitis\",\n",
      "\"urticaria\",\n",
      "\"varicose veins\",\n",
      "\"vernal keratoconjunctivitis\",\n",
      "\"vitamin b12 deficiency\",\n",
      "\"vitiligo\",\n",
      "\"welding arc maculopathy\",\n",
      "\"whooping cough\",\n",
      "\"xanthelasma\",\n",
      "\"yaws\",\n",
      "\"yellow fever\",\n",
      "\"birth defects\",\n",
      "\"lactose intolerance\",\n"
     ]
    }
   ],
   "source": [
    "file_names = os.listdir(extracted_dir_path)\n",
    "print(len(file_names))\n",
    "disease_set = ()\n",
    "\n",
    "for file_name in file_names:\n",
    "    disease = file_name.split('-')[0]\n",
    "    disease = disease.replace('_', ' ')\n",
    "    disease = disease.lower()\n",
    "    print('\"'+disease+'\",')"
   ]
  }
 ],
 "metadata": {
  "kernelspec": {
   "display_name": "dcp",
   "language": "python",
   "name": "python3"
  },
  "language_info": {
   "codemirror_mode": {
    "name": "ipython",
    "version": 3
   },
   "file_extension": ".py",
   "mimetype": "text/x-python",
   "name": "python",
   "nbconvert_exporter": "python",
   "pygments_lexer": "ipython3",
   "version": "3.9.19"
  }
 },
 "nbformat": 4,
 "nbformat_minor": 2
}
